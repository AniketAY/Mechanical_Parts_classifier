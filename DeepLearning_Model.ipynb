{
  "nbformat": 4,
  "nbformat_minor": 0,
  "metadata": {
    "colab": {
      "name": "MechanicalPartsClassification.ipynb",
      "provenance": [],
      "collapsed_sections": [
        "NQ1EDP-vNTDj"
      ]
    },
    "kernelspec": {
      "name": "python3",
      "display_name": "Python 3"
    },
    "accelerator": "GPU"
  },
  "cells": [
    {
      "cell_type": "markdown",
      "metadata": {
        "id": "7fc8nc0eNckt"
      },
      "source": [
        "# **Data and Libraries**"
      ]
    },
    {
      "cell_type": "code",
      "metadata": {
        "id": "j1TVqXqW6KOn"
      },
      "source": [
        "# Importing necessary libraries\r\n",
        "\r\n",
        "import tensorflow as tf\r\n",
        "import numpy as np\r\n",
        "import pandas as pd\r\n",
        "import matplotlib.pyplot as plt\r\n",
        "import keras\r\n",
        "import cv2\r\n",
        "\r\n",
        "from keras import layers\r\n",
        "from keras.layers import Input, Dense, Activation, ZeroPadding2D, BatchNormalization, Flatten, Conv2D\r\n",
        "from keras.layers import AveragePooling2D, MaxPooling2D, Dropout, GlobalMaxPooling2D, GlobalAveragePooling2D\r\n",
        "from keras.models import Model\r\n",
        "from keras.preprocessing import image\r\n",
        "from keras.utils import layer_utils\r\n",
        "from keras.utils.data_utils import get_file\r\n",
        "from keras.applications.imagenet_utils import preprocess_input\r\n",
        "import pydot\r\n",
        "from IPython.display import SVG\r\n",
        "from keras.utils.vis_utils import model_to_dot\r\n",
        "from keras.utils import plot_model\r\n",
        "\r\n",
        "import keras.backend as K\r\n",
        "K.set_image_data_format('channels_last')\r\n",
        "import matplotlib.pyplot as plt\r\n",
        "from matplotlib.pyplot import imshow"
      ],
      "execution_count": null,
      "outputs": []
    },
    {
      "cell_type": "code",
      "metadata": {
        "colab": {
          "base_uri": "https://localhost:8080/"
        },
        "id": "pwI-XJ27IZqw",
        "outputId": "2ae87c23-0d22-461e-b320-86c1092dbf33"
      },
      "source": [
        "print(tf.__version__)"
      ],
      "execution_count": null,
      "outputs": [
        {
          "output_type": "stream",
          "text": [
            "2.4.1\n"
          ],
          "name": "stdout"
        }
      ]
    },
    {
      "cell_type": "code",
      "metadata": {
        "colab": {
          "base_uri": "https://localhost:8080/"
        },
        "id": "_-2uJr1k6OCK",
        "outputId": "409ddf83-b459-4cff-8f95-ebfa96af4af6"
      },
      "source": [
        "# Mounting google drive\r\n",
        "\r\n",
        "from google.colab import drive          \r\n",
        "drive.mount('/content/drive')"
      ],
      "execution_count": null,
      "outputs": [
        {
          "output_type": "stream",
          "text": [
            "Mounted at /content/drive\n"
          ],
          "name": "stdout"
        }
      ]
    },
    {
      "cell_type": "code",
      "metadata": {
        "colab": {
          "base_uri": "https://localhost:8080/",
          "height": 35
        },
        "id": "MAKgYGQ-vlYp",
        "outputId": "aadb46f6-072e-4a6b-ed51-a9d46f317b4f"
      },
      "source": [
        "# Testing if GPU exists\r\n",
        "\r\n",
        "tf.test.gpu_device_name()"
      ],
      "execution_count": null,
      "outputs": [
        {
          "output_type": "execute_result",
          "data": {
            "application/vnd.google.colaboratory.intrinsic+json": {
              "type": "string"
            },
            "text/plain": [
              "'/device:GPU:0'"
            ]
          },
          "metadata": {
            "tags": []
          },
          "execution_count": 3
        }
      ]
    },
    {
      "cell_type": "code",
      "metadata": {
        "colab": {
          "base_uri": "https://localhost:8080/"
        },
        "id": "ieGQ99-byFuY",
        "outputId": "e40e7c7d-0252-4d5f-c7d2-26f92bd5afaf"
      },
      "source": [
        "# Checking specifications of CPU & GPU\r\n",
        "\r\n",
        "from tensorflow.python.client import device_lib\r\n",
        "print(device_lib.list_local_devices())"
      ],
      "execution_count": null,
      "outputs": [
        {
          "output_type": "stream",
          "text": [
            "[name: \"/device:CPU:0\"\n",
            "device_type: \"CPU\"\n",
            "memory_limit: 268435456\n",
            "locality {\n",
            "}\n",
            "incarnation: 594331754703450017\n",
            ", name: \"/device:GPU:0\"\n",
            "device_type: \"GPU\"\n",
            "memory_limit: 11145797952\n",
            "locality {\n",
            "  bus_id: 1\n",
            "  links {\n",
            "  }\n",
            "}\n",
            "incarnation: 13896249631923090638\n",
            "physical_device_desc: \"device: 0, name: Tesla K80, pci bus id: 0000:00:04.0, compute capability: 3.7\"\n",
            "]\n"
          ],
          "name": "stdout"
        }
      ]
    },
    {
      "cell_type": "code",
      "metadata": {
        "colab": {
          "base_uri": "https://localhost:8080/"
        },
        "id": "Ztop3TCBquwc",
        "outputId": "b4e60258-3044-4b56-cf57-756d02204774"
      },
      "source": [
        "# Using Image data generator from keras to handle the training as well as testing data\r\n",
        "\r\n",
        "from keras.preprocessing.image import ImageDataGenerator\r\n",
        "\r\n",
        "train_generator = ImageDataGenerator()\r\n",
        "test_generator = ImageDataGenerator()\r\n",
        "\r\n",
        "path = '/content/drive/MyDrive/Datasets/mechanical_parts_dataset'\r\n",
        "train_iterator = train_generator.flow_from_directory(path+'/training',target_size=(128,128),class_mode = 'sparse',batch_size=64)\r\n",
        "test_iterator = test_generator.flow_from_directory(path+'/testing',target_size=(128,128),class_mode = 'sparse',batch_size=1)"
      ],
      "execution_count": null,
      "outputs": [
        {
          "output_type": "stream",
          "text": [
            "Found 21130 images belonging to 4 classes.\n",
            "Found 1524 images belonging to 4 classes.\n"
          ],
          "name": "stdout"
        }
      ]
    },
    {
      "cell_type": "markdown",
      "metadata": {
        "id": "NQ1EDP-vNTDj"
      },
      "source": [
        "# **Model-fromScratch**"
      ]
    },
    {
      "cell_type": "code",
      "metadata": {
        "id": "BpkkTct3_Y5s"
      },
      "source": [
        "# Building CNN model from scratch \r\n",
        "\r\n",
        "def MechanicalModel():\r\n",
        "\r\n",
        "  X_input = Input((128,128,3))\r\n",
        "  X = ZeroPadding2D((3,3))(X_input)\r\n",
        "  X = Conv2D(32, (7, 7), strides = (1, 1), name = 'conv0')(X)\r\n",
        "  X = BatchNormalization(axis = 3, name = 'bn0')(X)\r\n",
        "  X = Activation('relu')(X)\r\n",
        "  X = MaxPooling2D((2, 2), strides = (2, 2), name = 'Max_Pool0')(X)\r\n",
        "  \r\n",
        "  X = ZeroPadding2D((3,3))(X)\r\n",
        "  X = Conv2D(64, (7, 7), strides = (1, 1), name = 'conv1')(X)\r\n",
        "  X = BatchNormalization(axis = 3, name = 'bn1')(X)\r\n",
        "  X = Activation('relu')(X)\r\n",
        "  X = MaxPooling2D((2, 2), strides = (2, 2), name = 'Max_Pool1')(X)\r\n",
        "  \r\n",
        "  X = ZeroPadding2D((3,3))(X)\r\n",
        "  X = Conv2D(64, (7, 7), strides = (1, 1), name = 'conv2')(X)\r\n",
        "  X = BatchNormalization(axis = 3, name = 'bn2')(X)\r\n",
        "  X = Activation('relu')(X)\r\n",
        "  X = MaxPooling2D((2, 2), strides = (2, 2), name = 'Max_Pool2')(X)\r\n",
        "\r\n",
        "  X = ZeroPadding2D((3,3))(X)\r\n",
        "  X = Conv2D(128, (7, 7), strides = (1, 1), name = 'conv3')(X)\r\n",
        "  X = BatchNormalization(axis = 3, name = 'bn3')(X)\r\n",
        "  X = Activation('relu')(X)\r\n",
        "  X = MaxPooling2D((2, 2), strides = (2, 2), name = 'Max_Pool3')(X)\r\n",
        "  \r\n",
        "  X = Flatten()(X)\r\n",
        "  X = Dense(4, activation = 'softmax', name = 'fc')(X)\r\n",
        "  print(X)\r\n",
        "  model = tf.keras.Model(inputs = X_input, outputs = X, name = 'MechanicalModel')\r\n",
        "\r\n",
        "  return model"
      ],
      "execution_count": null,
      "outputs": []
    },
    {
      "cell_type": "code",
      "metadata": {
        "colab": {
          "base_uri": "https://localhost:8080/"
        },
        "id": "jYK7KxtP6zFX",
        "outputId": "6255ccab-dd16-4e49-c6f7-ba1beb07c059"
      },
      "source": [
        "# Compiling the model and storing it in mechanicalmodel\r\n",
        "\r\n",
        "mechanicalmodel = MechanicalModel()\r\n",
        "\r\n",
        "mechanicalmodel.compile(optimizer = 'adam', loss = tf.keras.losses.sparse_categorical_crossentropy, metrics = [\"accuracy\"])"
      ],
      "execution_count": null,
      "outputs": [
        {
          "output_type": "stream",
          "text": [
            "KerasTensor(type_spec=TensorSpec(shape=(None, 4), dtype=tf.float32, name=None), name='fc/Softmax:0', description=\"created by layer 'fc'\")\n"
          ],
          "name": "stdout"
        }
      ]
    },
    {
      "cell_type": "code",
      "metadata": {
        "colab": {
          "base_uri": "https://localhost:8080/"
        },
        "id": "JZsYhA4KMN2S",
        "outputId": "cf8b4ad7-8723-4a34-afc0-c30e239d861d"
      },
      "source": [
        "# Training the model\r\n",
        "\r\n",
        "model_history = mechanicalmodel.fit_generator(\r\n",
        "    train_iterator, \r\n",
        "    epochs=20,\r\n",
        "    validation_data=test_iterator\r\n",
        ")"
      ],
      "execution_count": null,
      "outputs": [
        {
          "output_type": "stream",
          "text": [
            "/usr/local/lib/python3.6/dist-packages/tensorflow/python/keras/engine/training.py:1844: UserWarning: `Model.fit_generator` is deprecated and will be removed in a future version. Please use `Model.fit`, which supports generators.\n",
            "  warnings.warn('`Model.fit_generator` is deprecated and '\n"
          ],
          "name": "stderr"
        },
        {
          "output_type": "stream",
          "text": [
            "Epoch 1/20\n",
            "331/331 [==============================] - 135s 409ms/step - loss: 0.5042 - accuracy: 0.8073 - val_loss: 2.6458 - val_accuracy: 0.3432\n",
            "Epoch 2/20\n",
            "331/331 [==============================] - 39s 118ms/step - loss: 0.4028 - accuracy: 0.8474 - val_loss: 2.3791 - val_accuracy: 0.4856\n",
            "Epoch 3/20\n",
            "331/331 [==============================] - 39s 118ms/step - loss: 0.3486 - accuracy: 0.8703 - val_loss: 2.5199 - val_accuracy: 0.5682\n",
            "Epoch 4/20\n",
            "331/331 [==============================] - 40s 121ms/step - loss: 0.2786 - accuracy: 0.8947 - val_loss: 1.4271 - val_accuracy: 0.6929\n",
            "Epoch 5/20\n",
            "331/331 [==============================] - 39s 117ms/step - loss: 0.2281 - accuracy: 0.9158 - val_loss: 1.9292 - val_accuracy: 0.4724\n",
            "Epoch 6/20\n",
            "331/331 [==============================] - 39s 118ms/step - loss: 0.1801 - accuracy: 0.9336 - val_loss: 2.6917 - val_accuracy: 0.4744\n",
            "Epoch 7/20\n",
            "331/331 [==============================] - 39s 117ms/step - loss: 0.1553 - accuracy: 0.9418 - val_loss: 2.1323 - val_accuracy: 0.5584\n",
            "Epoch 8/20\n",
            "331/331 [==============================] - 38s 116ms/step - loss: 0.1719 - accuracy: 0.9395 - val_loss: 25.5688 - val_accuracy: 0.2500\n",
            "Epoch 9/20\n",
            "331/331 [==============================] - 38s 116ms/step - loss: 0.1052 - accuracy: 0.9622 - val_loss: 12.8825 - val_accuracy: 0.2520\n",
            "Epoch 10/20\n",
            "331/331 [==============================] - 39s 116ms/step - loss: 0.0988 - accuracy: 0.9641 - val_loss: 3.9643 - val_accuracy: 0.5459\n",
            "Epoch 11/20\n",
            "331/331 [==============================] - 38s 116ms/step - loss: 0.0821 - accuracy: 0.9714 - val_loss: 0.1541 - val_accuracy: 0.9442\n",
            "Epoch 12/20\n",
            "331/331 [==============================] - 39s 116ms/step - loss: 0.0569 - accuracy: 0.9817 - val_loss: 0.9170 - val_accuracy: 0.7402\n",
            "Epoch 13/20\n",
            "331/331 [==============================] - 39s 118ms/step - loss: 0.0549 - accuracy: 0.9804 - val_loss: 36.5811 - val_accuracy: 0.2500\n",
            "Epoch 14/20\n",
            "331/331 [==============================] - 39s 117ms/step - loss: 0.0520 - accuracy: 0.9808 - val_loss: 5.9258 - val_accuracy: 0.5761\n",
            "Epoch 15/20\n",
            "331/331 [==============================] - 39s 118ms/step - loss: 0.1014 - accuracy: 0.9655 - val_loss: 5.9084 - val_accuracy: 0.4285\n",
            "Epoch 16/20\n",
            "331/331 [==============================] - 39s 118ms/step - loss: 0.0354 - accuracy: 0.9883 - val_loss: 6.0217 - val_accuracy: 0.6824\n",
            "Epoch 17/20\n",
            "331/331 [==============================] - 39s 117ms/step - loss: 0.0245 - accuracy: 0.9918 - val_loss: 8.3294 - val_accuracy: 0.5899\n",
            "Epoch 18/20\n",
            "331/331 [==============================] - 39s 117ms/step - loss: 0.0254 - accuracy: 0.9917 - val_loss: 0.0654 - val_accuracy: 0.9777\n",
            "Epoch 19/20\n",
            "331/331 [==============================] - 39s 116ms/step - loss: 0.0386 - accuracy: 0.9875 - val_loss: 10.0354 - val_accuracy: 0.2552\n",
            "Epoch 20/20\n",
            "331/331 [==============================] - 39s 118ms/step - loss: 0.0453 - accuracy: 0.9833 - val_loss: 1.7828 - val_accuracy: 0.7651\n"
          ],
          "name": "stdout"
        }
      ]
    },
    {
      "cell_type": "code",
      "metadata": {
        "id": "B43sMKG-1lMO",
        "colab": {
          "base_uri": "https://localhost:8080/",
          "height": 545
        },
        "outputId": "341b458c-5746-420c-ed3f-8c8d25331853"
      },
      "source": [
        "# Plotting the graphs of validation loss and validation accuracy vs epochs\r\n",
        "\r\n",
        "accuracy = model_history.history['val_accuracy']\r\n",
        "loss = model_history.history['val_loss']\r\n",
        "x = np.arange(len(loss))\r\n",
        "\r\n",
        "plt.plot(x,loss)\r\n",
        "plt.title('Loss vs epochs')\r\n",
        "plt.show()\r\n",
        "\r\n",
        "plt.plot(x, accuracy)\r\n",
        "plt.title('Accuracy v/s epochs')\r\n",
        "plt.show()"
      ],
      "execution_count": null,
      "outputs": [
        {
          "output_type": "display_data",
          "data": {
            "image/png": "[encoded data removed]",
            "text/plain": [
              "<Figure size 432x288 with 1 Axes>"
            ]
          },
          "metadata": {
            "tags": [],
            "needs_background": "light"
          }
        },
        {
          "output_type": "display_data",
          "data": {
            "image/png": "[encoded data removed]",
            "text/plain": [
              "<Figure size 432x288 with 1 Axes>"
            ]
          },
          "metadata": {
            "tags": [],
            "needs_background": "light"
          }
        }
      ]
    },
    {
      "cell_type": "code",
      "metadata": {
        "id": "muBLPU981xbB"
      },
      "source": [
        "# Defining a function that tests on a custom image using image path\r\n",
        "\r\n",
        "# First we identify the actual class labels and what their corresponding index in the model\r\n",
        "labels = train_iterator.class_indices\r\n",
        "labels = dict((v,k) for k,v in labels.items())\r\n",
        "\r\n",
        "def mechanical_parts_predictor(path):\r\n",
        "  x_test_image =  cv2.imread(path)\r\n",
        "  resized_test = cv2.resize(x_test_image,(128,128))\r\n",
        "\r\n",
        "  list_of_test_images = []\r\n",
        "  list_of_test_images.append(resized_test)\r\n",
        "  test_image = np.array(list_of_test_images)\r\n",
        "\r\n",
        "  prediction = mechanicalmodel.predict_generator(test_image)\r\n",
        "  print(prediction)\r\n",
        "  predicted_class_index = np.argmax(prediction)\r\n",
        "  # predictions = \r\n",
        "  return labels[predicted_class_index]"
      ],
      "execution_count": null,
      "outputs": []
    },
    {
      "cell_type": "code",
      "metadata": {
        "colab": {
          "base_uri": "https://localhost:8080/"
        },
        "id": "RCy_lsaUXQbm",
        "outputId": "3b9eb1ab-8b9e-425b-bf47-22a9441965e3"
      },
      "source": [
        "# We test using a sample image\r\n",
        "\r\n",
        "test_image_path = '/content/pin2.png'\r\n",
        "part = mechanical_parts_predictor(test_image_path)\r\n",
        "print(\"The given image is of \" + part)"
      ],
      "execution_count": null,
      "outputs": [
        {
          "output_type": "stream",
          "text": [
            "[[6.7462701e-01 2.2120979e-01 1.0416172e-01 1.3801437e-06]]\n",
            "The given image is of bolt\n"
          ],
          "name": "stdout"
        },
        {
          "output_type": "stream",
          "text": [
            "/usr/local/lib/python3.6/dist-packages/tensorflow/python/keras/engine/training.py:1905: UserWarning: `Model.predict_generator` is deprecated and will be removed in a future version. Please use `Model.predict`, which supports generators.\n",
            "  warnings.warn('`Model.predict_generator` is deprecated and '\n"
          ],
          "name": "stderr"
        }
      ]
    },
    {
      "cell_type": "markdown",
      "metadata": {
        "id": "5QOlOJkTNr1E"
      },
      "source": [
        "# **VGG** \r\n",
        "\r\n",
        "For purposes of comparison with standard models, we use pretrained VGG16 "
      ]
    },
    {
      "cell_type": "code",
      "metadata": {
        "id": "TxIO6Yn5Nq-p",
        "colab": {
          "base_uri": "https://localhost:8080/"
        },
        "outputId": "834f4c86-72ca-4258-80c6-2533edab6679"
      },
      "source": [
        "from keras.models import Sequential\r\n",
        "from keras.layers import Conv2D,Dense,MaxPooling2D,Flatten,BatchNormalization,AveragePooling2D\r\n",
        "from keras.applications.vgg16 import VGG16\r\n",
        "\r\n",
        "\r\n",
        "vgg_model = VGG16(input_shape=(128,128,3),include_top=False,weights='imagenet')\r\n",
        "model = Sequential()\r\n",
        "\r\n",
        "model.add(vgg_model)\r\n",
        "\r\n",
        "model.add(Flatten())\r\n",
        "model.add(Dense(4,activation='softmax'))\r\n",
        "\r\n",
        "model.compile(loss='sparse_categorical_crossentropy', optimizer=keras.optimizers.Adam(lr=1e-3), metrics=['accuracy'])"
      ],
      "execution_count": null,
      "outputs": [
        {
          "output_type": "stream",
          "text": [
            "Downloading data from https://storage.googleapis.com/tensorflow/keras-applications/vgg16/vgg16_weights_tf_dim_ordering_tf_kernels_notop.h5\n",
            "58892288/58889256 [==============================] - 0s 0us/step\n"
          ],
          "name": "stdout"
        }
      ]
    },
    {
      "cell_type": "code",
      "metadata": {
        "id": "dp55mM9CN_Jf"
      },
      "source": [
        "for layer in vgg_model.layers:\r\n",
        "    layer.trainable = False"
      ],
      "execution_count": null,
      "outputs": []
    },
    {
      "cell_type": "code",
      "metadata": {
        "colab": {
          "base_uri": "https://localhost:8080/"
        },
        "id": "ZMeVR8paOBKo",
        "outputId": "839fd41f-f712-406b-c1b8-928a5370fef6"
      },
      "source": [
        "model_history = model.fit_generator(\r\n",
        "    train_iterator, \r\n",
        "    epochs=20,\r\n",
        "    validation_data=test_iterator,\r\n",
        "    steps_per_epoch = 64\r\n",
        ")"
      ],
      "execution_count": null,
      "outputs": [
        {
          "output_type": "stream",
          "text": [
            "/usr/local/lib/python3.6/dist-packages/tensorflow/python/keras/engine/training.py:1844: UserWarning: `Model.fit_generator` is deprecated and will be removed in a future version. Please use `Model.fit`, which supports generators.\n",
            "  warnings.warn('`Model.fit_generator` is deprecated and '\n"
          ],
          "name": "stderr"
        },
        {
          "output_type": "stream",
          "text": [
            "Epoch 1/20\n",
            "64/64 [==============================] - 1228s 19s/step - loss: 1.3869 - accuracy: 0.2686 - val_loss: 1.3448 - val_accuracy: 0.3944\n",
            "Epoch 2/20\n",
            "64/64 [==============================] - 665s 10s/step - loss: 1.1476 - accuracy: 0.4502 - val_loss: 0.6573 - val_accuracy: 0.7073\n",
            "Epoch 3/20\n",
            "64/64 [==============================] - 524s 8s/step - loss: 0.7968 - accuracy: 0.6443 - val_loss: 0.6731 - val_accuracy: 0.7218\n",
            "Epoch 4/20\n",
            "64/64 [==============================] - 440s 7s/step - loss: 0.7165 - accuracy: 0.6987 - val_loss: 0.5958 - val_accuracy: 0.7579\n",
            "Epoch 5/20\n",
            "64/64 [==============================] - 349s 5s/step - loss: 0.6562 - accuracy: 0.7336 - val_loss: 0.4998 - val_accuracy: 0.8196\n",
            "Epoch 6/20\n",
            "64/64 [==============================] - 281s 4s/step - loss: 0.5926 - accuracy: 0.7656 - val_loss: 0.4340 - val_accuracy: 0.8478\n",
            "Epoch 7/20\n",
            "64/64 [==============================] - 229s 4s/step - loss: 0.5610 - accuracy: 0.7847 - val_loss: 0.4037 - val_accuracy: 0.8497\n",
            "Epoch 8/20\n",
            "64/64 [==============================] - 184s 3s/step - loss: 0.5417 - accuracy: 0.7949 - val_loss: 0.3828 - val_accuracy: 0.8609\n",
            "Epoch 9/20\n",
            "64/64 [==============================] - 153s 2s/step - loss: 0.5892 - accuracy: 0.7769 - val_loss: 0.4451 - val_accuracy: 0.8510\n",
            "Epoch 10/20\n",
            "64/64 [==============================] - 123s 2s/step - loss: 0.5636 - accuracy: 0.7791 - val_loss: 0.3959 - val_accuracy: 0.8360\n",
            "Epoch 11/20\n",
            "64/64 [==============================] - 105s 2s/step - loss: 0.4965 - accuracy: 0.8132 - val_loss: 0.2799 - val_accuracy: 0.9029\n",
            "Epoch 12/20\n",
            "64/64 [==============================] - 81s 1s/step - loss: 0.4573 - accuracy: 0.8251 - val_loss: 0.3336 - val_accuracy: 0.9016\n",
            "Epoch 13/20\n",
            "64/64 [==============================] - 65s 1s/step - loss: 0.4375 - accuracy: 0.8342 - val_loss: 0.2795 - val_accuracy: 0.9062\n",
            "Epoch 14/20\n",
            "64/64 [==============================] - 58s 902ms/step - loss: 0.4325 - accuracy: 0.8387 - val_loss: 0.2893 - val_accuracy: 0.8944\n",
            "Epoch 15/20\n",
            "64/64 [==============================] - 47s 733ms/step - loss: 0.3949 - accuracy: 0.8503 - val_loss: 0.1946 - val_accuracy: 0.9377\n",
            "Epoch 16/20\n",
            "64/64 [==============================] - 45s 695ms/step - loss: 0.3733 - accuracy: 0.8621 - val_loss: 0.2363 - val_accuracy: 0.9147\n",
            "Epoch 17/20\n",
            "64/64 [==============================] - 38s 590ms/step - loss: 0.3415 - accuracy: 0.8735 - val_loss: 0.1908 - val_accuracy: 0.9337\n",
            "Epoch 18/20\n",
            "64/64 [==============================] - 35s 545ms/step - loss: 0.3326 - accuracy: 0.8711 - val_loss: 0.1968 - val_accuracy: 0.9337\n",
            "Epoch 19/20\n",
            "64/64 [==============================] - 34s 537ms/step - loss: 0.3040 - accuracy: 0.8918 - val_loss: 0.1408 - val_accuracy: 0.9534\n",
            "Epoch 20/20\n",
            "64/64 [==============================] - 29s 460ms/step - loss: 0.3091 - accuracy: 0.8826 - val_loss: 0.1911 - val_accuracy: 0.9298\n"
          ],
          "name": "stdout"
        }
      ]
    },
    {
      "cell_type": "code",
      "metadata": {
        "id": "2FXGsD7kOKEU",
        "colab": {
          "base_uri": "https://localhost:8080/",
          "height": 545
        },
        "outputId": "85c549c0-a6d5-4703-b011-870f2f30cad1"
      },
      "source": [
        "# Plotting the graphs of validation loss and validation accuracy vs epochs\r\n",
        "\r\n",
        "accuracy = model_history.history['val_accuracy']\r\n",
        "loss = model_history.history['val_loss']\r\n",
        "x = np.arange(len(loss))\r\n",
        "\r\n",
        "plt.plot(x,loss)\r\n",
        "plt.title('Loss vs epochs')\r\n",
        "plt.show()\r\n",
        "\r\n",
        "plt.plot(x, accuracy)\r\n",
        "plt.title('Accuracy v/s epochs')\r\n",
        "plt.show()"
      ],
      "execution_count": null,
      "outputs": [
        {
          "output_type": "display_data",
          "data": {
            "image/png": "[encoded data removed]",
            "text/plain": [
              "<Figure size 432x288 with 1 Axes>"
            ]
          },
          "metadata": {
            "tags": [],
            "needs_background": "light"
          }
        },
        {
          "output_type": "display_data",
          "data": {
            "image/png": "[encoded data removed]",
            "text/plain": [
              "<Figure size 432x288 with 1 Axes>"
            ]
          },
          "metadata": {
            "tags": [],
            "needs_background": "light"
          }
        }
      ]
    },
    {
      "cell_type": "code",
      "metadata": {
        "id": "q8xFZbOxsELj"
      },
      "source": [
        "# Saving the model weights for future use\r\n",
        "\r\n",
        "# model.save_weights('/content/drive/MyDrive/Datasets')\r\n",
        "# model.save('model.h5')"
      ],
      "execution_count": null,
      "outputs": []
    },
    {
      "cell_type": "code",
      "metadata": {
        "id": "wqI0r-xUuqDt"
      },
      "source": [
        "# Copying the model that was saved in the temporary content to the drive destination\r\n",
        "\r\n",
        "# %cp /content/model.h5 /content/drive/MyDrive/Datasets"
      ],
      "execution_count": null,
      "outputs": []
    },
    {
      "cell_type": "code",
      "metadata": {
        "id": "DYW5wIv1kEO0"
      },
      "source": [
        "# Loading the saved model weights \r\n",
        "\r\n",
        "model.load_weights('/content/drive/MyDrive/Datasets/model.h5')"
      ],
      "execution_count": null,
      "outputs": []
    },
    {
      "cell_type": "code",
      "metadata": {
        "id": "6n-KoZUeBQou"
      },
      "source": [
        "# Saving the model weights in tf format \r\n",
        "\r\n",
        "model.save_weights('./model_weight_tf.tf',save_format='tf')"
      ],
      "execution_count": null,
      "outputs": []
    },
    {
      "cell_type": "code",
      "metadata": {
        "id": "R0KepIovBhkM"
      },
      "source": [
        "# Loading the tf format weights\r\n",
        "\r\n",
        "# model.load_weights('/content/model_weight_tf.tf.index')"
      ],
      "execution_count": null,
      "outputs": []
    },
    {
      "cell_type": "code",
      "metadata": {
        "id": "mt-L8FH8RpFw",
        "colab": {
          "base_uri": "https://localhost:8080/"
        },
        "outputId": "9d74fc08-03b0-433a-be58-51ca04b92bb5"
      },
      "source": [
        "# Defining a function that tests on a custom image using image path\r\n",
        "\r\n",
        "# First we identify the actual class labels and what their corresponding index in the model\r\n",
        "# labels = train_iterator.class_indices\r\n",
        "labels = {'bolt': 0, 'locatingpin': 1, 'nut': 2, 'washer': 3}\r\n",
        "print(\"The corresponding classes and indices are \")\r\n",
        "print(labels)\r\n",
        "labels = dict((v,k) for k,v in labels.items())\r\n",
        "\r\n",
        "def mechanical_parts_predictor(path):\r\n",
        "  x_test_image =  cv2.imread(path)\r\n",
        "  resized_test = cv2.resize(x_test_image,(128,128))\r\n",
        "  list_of_test_images = []\r\n",
        "  list_of_test_images.append(resized_test)\r\n",
        "  test_image = np.array(list_of_test_images)\r\n",
        "  prediction = model.predict_generator(test_image)\r\n",
        "  print(\"The prediction probabilities are \")\r\n",
        "  print(prediction)\r\n",
        "  predicted_class_index = np.argmax(prediction)\r\n",
        "  return labels[predicted_class_index]"
      ],
      "execution_count": null,
      "outputs": [
        {
          "output_type": "stream",
          "text": [
            "The corresponding classes and indices are \n",
            "{'bolt': 0, 'locatingpin': 1, 'nut': 2, 'washer': 3}\n"
          ],
          "name": "stdout"
        }
      ]
    },
    {
      "cell_type": "code",
      "metadata": {
        "id": "G7-13EuHSccG",
        "colab": {
          "base_uri": "https://localhost:8080/",
          "height": 374
        },
        "outputId": "2f92fc5b-782e-4718-dd2d-a0623182a75a"
      },
      "source": [
        "# We test using a sample image\r\n",
        "\r\n",
        "test_image_path = '/content/bolt.png'\r\n",
        "display_image = cv2.imread(test_image_path)\r\n",
        "plt.imshow(display_image)\r\n",
        "part = mechanical_parts_predictor(test_image_path)\r\n",
        "print(\"The given image is of \" + part)"
      ],
      "execution_count": null,
      "outputs": [
        {
          "output_type": "stream",
          "text": [
            "The prediction probabilities are \n",
            "[[0.8018068  0.19124196 0.00394446 0.00300681]]\n",
            "The given image is of bolt\n"
          ],
          "name": "stdout"
        },
        {
          "output_type": "stream",
          "text": [
            "/usr/local/lib/python3.6/dist-packages/tensorflow/python/keras/engine/training.py:1905: UserWarning: `Model.predict_generator` is deprecated and will be removed in a future version. Please use `Model.predict`, which supports generators.\n",
            "  warnings.warn('`Model.predict_generator` is deprecated and '\n"
          ],
          "name": "stderr"
        },
        {
          "output_type": "display_data",
          "data": {
            "image/png": "[encoded data removed]",
            "text/plain": [
              "<Figure size 432x288 with 1 Axes>"
            ]
          },
          "metadata": {
            "tags": [],
            "needs_background": "light"
          }
        }
      ]
    }
  ]
}